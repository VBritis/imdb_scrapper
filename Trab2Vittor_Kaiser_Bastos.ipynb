{
 "cells": [
  {
   "cell_type": "code",
   "execution_count": 65,
   "id": "be490297",
   "metadata": {},
   "outputs": [],
   "source": [
    "from selenium import webdriver\n",
    "from selenium.webdriver.common.by import By\n",
    "from dataclasses import dataclass\n",
    "import re"
   ]
  },
  {
   "cell_type": "code",
   "execution_count": 66,
   "id": "12909135",
   "metadata": {},
   "outputs": [],
   "source": [
    "driver = webdriver.Firefox()"
   ]
  },
  {
   "cell_type": "code",
   "execution_count": 67,
   "id": "3f05dced",
   "metadata": {},
   "outputs": [],
   "source": [
    "@dataclass\n",
    "class Serie:\n",
    "    titulo: str\n",
    "    ano: str\n",
    "    classificacao: float\n",
    "    pagina: str\n",
    "    episodios: int\n",
    "\n",
    "def cria_serie(li_tag):\n",
    "    titulo = li_tag.find_element(By.CLASS_NAME, \"ipc-title__text\").text\n",
    "    ano = li_tag.find_element(By.XPATH, \"./div/div/div/div/div[2]/div[2]/span[1]\").text\n",
    "    avaliacao = li_tag.find_element(By.CLASS_NAME, \"ipc-rating-star--rating\").text\n",
    "    episodios = li_tag.find_element(By.XPATH, \"./div/div/div/div/div[2]/div[2]/span[2]\").text\n",
    "    link = li_tag.find_element(By.CLASS_NAME, \"ipc-title-link-wrapper\").get_attribute(\"href\")\n",
    "    re_result = re.search(r'^\\d\\,\\d',avaliacao) \n",
    "    re_titulo = re.sub(r'[0-9.]', '', titulo)\n",
    "\n",
    "    classificacao = None\n",
    "    if re_result:\n",
    "        classificacao = re.search(r'^\\d\\,\\d',avaliacao).group(0) \n",
    "        classificacao = float(classificacao.replace(\",\", \".\"))\n",
    "\n",
    "    return Serie(re_titulo,ano,avaliacao,link,episodios)"
   ]
  },
  {
   "cell_type": "code",
   "execution_count": 71,
   "id": "c2bb39d3",
   "metadata": {},
   "outputs": [],
   "source": [
    "\n",
    "\n",
    "\n",
    "driver.get(\"https://www.imdb.com/pt/\")\n",
    "\n",
    "\n",
    "botao1 = driver.find_element(By.XPATH, r'//*[@id= \"imdbHeader-navDrawerOpen\"]')\n",
    "botao1.click()\n",
    "#botao = driver.find_element(By.XPATH, r'//*[@class= \"drawer__panelContent\"]/div/div/div/span/label')\n",
    "#botao.click()\n",
    "#link_populares = driver.find_element(By.LINK_TEXT, '250 séries mais populares')\n",
    "link_populares = driver.find_element(By.XPATH, '//a[span[text()=\"250 séries mais populares\"]]')\n",
    "\n",
    "link_populares.click()\n",
    "\n",
    "#url = link_populares.get_attribute('href')\n",
    "#driver.get(url)\n",
    "lista = driver.find_element(By.XPATH, r'//*[@id=\"__next\"]/main/div/div[3]/section/div/div[2]/div/ul')\n",
    "lista_series = lista.find_elements(By.TAG_NAME, \"li\")\n",
    "\n",
    "\n",
    "\n"
   ]
  },
  {
   "cell_type": "code",
   "execution_count": 70,
   "id": "47cb2a06",
   "metadata": {},
   "outputs": [
    {
     "ename": "StaleElementReferenceException",
     "evalue": "Message: The element with the reference 50414ca0-b1f2-4fa0-976a-871d3add4032 is stale; either its node document is not the active document, or it is no longer connected to the DOM; For documentation on this error, please visit: https://www.selenium.dev/documentation/webdriver/troubleshooting/errors#stale-element-reference-exception\nStacktrace:\nRemoteError@chrome://remote/content/shared/RemoteError.sys.mjs:8:8\nWebDriverError@chrome://remote/content/shared/webdriver/Errors.sys.mjs:199:5\nStaleElementReferenceError@chrome://remote/content/shared/webdriver/Errors.sys.mjs:796:5\ngetKnownElement@chrome://remote/content/marionette/json.sys.mjs:405:11\ndeserializeJSON@chrome://remote/content/marionette/json.sys.mjs:263:20\ncloneObject@chrome://remote/content/marionette/json.sys.mjs:59:24\ndeserializeJSON@chrome://remote/content/marionette/json.sys.mjs:293:16\ncloneObject@chrome://remote/content/marionette/json.sys.mjs:59:24\ndeserializeJSON@chrome://remote/content/marionette/json.sys.mjs:293:16\njson.deserialize@chrome://remote/content/marionette/json.sys.mjs:297:10\nreceiveMessage@chrome://remote/content/marionette/actors/MarionetteCommandsChild.sys.mjs:202:30\n",
     "output_type": "error",
     "traceback": [
      "\u001b[1;31m---------------------------------------------------------------------------\u001b[0m",
      "\u001b[1;31mStaleElementReferenceException\u001b[0m            Traceback (most recent call last)",
      "Cell \u001b[1;32mIn[70], line 3\u001b[0m\n\u001b[0;32m      1\u001b[0m lista_de_series \u001b[38;5;241m=\u001b[39m []\n\u001b[0;32m      2\u001b[0m \u001b[38;5;28;01mfor\u001b[39;00m serie_tag \u001b[38;5;129;01min\u001b[39;00m lista_series:\n\u001b[1;32m----> 3\u001b[0m     serie \u001b[38;5;241m=\u001b[39m cria_serie(serie_tag)\n\u001b[0;32m      4\u001b[0m     lista_de_series\u001b[38;5;241m.\u001b[39mappend(serie)\n\u001b[0;32m      6\u001b[0m \u001b[38;5;28;01mfor\u001b[39;00m serie \u001b[38;5;129;01min\u001b[39;00m lista_de_series:\n",
      "Cell \u001b[1;32mIn[67], line 10\u001b[0m, in \u001b[0;36mcria_serie\u001b[1;34m(li_tag)\u001b[0m\n\u001b[0;32m      9\u001b[0m \u001b[38;5;28;01mdef\u001b[39;00m \u001b[38;5;21mcria_serie\u001b[39m(li_tag):\n\u001b[1;32m---> 10\u001b[0m     titulo \u001b[38;5;241m=\u001b[39m li_tag\u001b[38;5;241m.\u001b[39mfind_element(By\u001b[38;5;241m.\u001b[39mCLASS_NAME, \u001b[38;5;124m\"\u001b[39m\u001b[38;5;124mipc-title__text\u001b[39m\u001b[38;5;124m\"\u001b[39m)\u001b[38;5;241m.\u001b[39mtext\n\u001b[0;32m     11\u001b[0m     ano \u001b[38;5;241m=\u001b[39m li_tag\u001b[38;5;241m.\u001b[39mfind_element(By\u001b[38;5;241m.\u001b[39mXPATH, \u001b[38;5;124m\"\u001b[39m\u001b[38;5;124m./div/div/div/div/div[2]/div[2]/span[1]\u001b[39m\u001b[38;5;124m\"\u001b[39m)\u001b[38;5;241m.\u001b[39mtext\n\u001b[0;32m     12\u001b[0m     avaliacao \u001b[38;5;241m=\u001b[39m li_tag\u001b[38;5;241m.\u001b[39mfind_element(By\u001b[38;5;241m.\u001b[39mCLASS_NAME, \u001b[38;5;124m\"\u001b[39m\u001b[38;5;124mipc-rating-star--rating\u001b[39m\u001b[38;5;124m\"\u001b[39m)\u001b[38;5;241m.\u001b[39mtext\n",
      "File \u001b[1;32mc:\\Users\\vbrit\\anaconda3\\Lib\\site-packages\\selenium\\webdriver\\remote\\webelement.py:417\u001b[0m, in \u001b[0;36mWebElement.find_element\u001b[1;34m(self, by, value)\u001b[0m\n\u001b[0;32m    414\u001b[0m     by \u001b[38;5;241m=\u001b[39m By\u001b[38;5;241m.\u001b[39mCSS_SELECTOR\n\u001b[0;32m    415\u001b[0m     value \u001b[38;5;241m=\u001b[39m \u001b[38;5;124mf\u001b[39m\u001b[38;5;124m'\u001b[39m\u001b[38;5;124m[name=\u001b[39m\u001b[38;5;124m\"\u001b[39m\u001b[38;5;132;01m{\u001b[39;00mvalue\u001b[38;5;132;01m}\u001b[39;00m\u001b[38;5;124m\"\u001b[39m\u001b[38;5;124m]\u001b[39m\u001b[38;5;124m'\u001b[39m\n\u001b[1;32m--> 417\u001b[0m \u001b[38;5;28;01mreturn\u001b[39;00m \u001b[38;5;28mself\u001b[39m\u001b[38;5;241m.\u001b[39m_execute(Command\u001b[38;5;241m.\u001b[39mFIND_CHILD_ELEMENT, {\u001b[38;5;124m\"\u001b[39m\u001b[38;5;124musing\u001b[39m\u001b[38;5;124m\"\u001b[39m: by, \u001b[38;5;124m\"\u001b[39m\u001b[38;5;124mvalue\u001b[39m\u001b[38;5;124m\"\u001b[39m: value})[\u001b[38;5;124m\"\u001b[39m\u001b[38;5;124mvalue\u001b[39m\u001b[38;5;124m\"\u001b[39m]\n",
      "File \u001b[1;32mc:\\Users\\vbrit\\anaconda3\\Lib\\site-packages\\selenium\\webdriver\\remote\\webelement.py:395\u001b[0m, in \u001b[0;36mWebElement._execute\u001b[1;34m(self, command, params)\u001b[0m\n\u001b[0;32m    393\u001b[0m     params \u001b[38;5;241m=\u001b[39m {}\n\u001b[0;32m    394\u001b[0m params[\u001b[38;5;124m\"\u001b[39m\u001b[38;5;124mid\u001b[39m\u001b[38;5;124m\"\u001b[39m] \u001b[38;5;241m=\u001b[39m \u001b[38;5;28mself\u001b[39m\u001b[38;5;241m.\u001b[39m_id\n\u001b[1;32m--> 395\u001b[0m \u001b[38;5;28;01mreturn\u001b[39;00m \u001b[38;5;28mself\u001b[39m\u001b[38;5;241m.\u001b[39m_parent\u001b[38;5;241m.\u001b[39mexecute(command, params)\n",
      "File \u001b[1;32mc:\\Users\\vbrit\\anaconda3\\Lib\\site-packages\\selenium\\webdriver\\remote\\webdriver.py:354\u001b[0m, in \u001b[0;36mWebDriver.execute\u001b[1;34m(self, driver_command, params)\u001b[0m\n\u001b[0;32m    352\u001b[0m response \u001b[38;5;241m=\u001b[39m \u001b[38;5;28mself\u001b[39m\u001b[38;5;241m.\u001b[39mcommand_executor\u001b[38;5;241m.\u001b[39mexecute(driver_command, params)\n\u001b[0;32m    353\u001b[0m \u001b[38;5;28;01mif\u001b[39;00m response:\n\u001b[1;32m--> 354\u001b[0m     \u001b[38;5;28mself\u001b[39m\u001b[38;5;241m.\u001b[39merror_handler\u001b[38;5;241m.\u001b[39mcheck_response(response)\n\u001b[0;32m    355\u001b[0m     response[\u001b[38;5;124m\"\u001b[39m\u001b[38;5;124mvalue\u001b[39m\u001b[38;5;124m\"\u001b[39m] \u001b[38;5;241m=\u001b[39m \u001b[38;5;28mself\u001b[39m\u001b[38;5;241m.\u001b[39m_unwrap_value(response\u001b[38;5;241m.\u001b[39mget(\u001b[38;5;124m\"\u001b[39m\u001b[38;5;124mvalue\u001b[39m\u001b[38;5;124m\"\u001b[39m, \u001b[38;5;28;01mNone\u001b[39;00m))\n\u001b[0;32m    356\u001b[0m     \u001b[38;5;28;01mreturn\u001b[39;00m response\n",
      "File \u001b[1;32mc:\\Users\\vbrit\\anaconda3\\Lib\\site-packages\\selenium\\webdriver\\remote\\errorhandler.py:229\u001b[0m, in \u001b[0;36mErrorHandler.check_response\u001b[1;34m(self, response)\u001b[0m\n\u001b[0;32m    227\u001b[0m         alert_text \u001b[38;5;241m=\u001b[39m value[\u001b[38;5;124m\"\u001b[39m\u001b[38;5;124malert\u001b[39m\u001b[38;5;124m\"\u001b[39m]\u001b[38;5;241m.\u001b[39mget(\u001b[38;5;124m\"\u001b[39m\u001b[38;5;124mtext\u001b[39m\u001b[38;5;124m\"\u001b[39m)\n\u001b[0;32m    228\u001b[0m     \u001b[38;5;28;01mraise\u001b[39;00m exception_class(message, screen, stacktrace, alert_text)  \u001b[38;5;66;03m# type: ignore[call-arg]  # mypy is not smart enough here\u001b[39;00m\n\u001b[1;32m--> 229\u001b[0m \u001b[38;5;28;01mraise\u001b[39;00m exception_class(message, screen, stacktrace)\n",
      "\u001b[1;31mStaleElementReferenceException\u001b[0m: Message: The element with the reference 50414ca0-b1f2-4fa0-976a-871d3add4032 is stale; either its node document is not the active document, or it is no longer connected to the DOM; For documentation on this error, please visit: https://www.selenium.dev/documentation/webdriver/troubleshooting/errors#stale-element-reference-exception\nStacktrace:\nRemoteError@chrome://remote/content/shared/RemoteError.sys.mjs:8:8\nWebDriverError@chrome://remote/content/shared/webdriver/Errors.sys.mjs:199:5\nStaleElementReferenceError@chrome://remote/content/shared/webdriver/Errors.sys.mjs:796:5\ngetKnownElement@chrome://remote/content/marionette/json.sys.mjs:405:11\ndeserializeJSON@chrome://remote/content/marionette/json.sys.mjs:263:20\ncloneObject@chrome://remote/content/marionette/json.sys.mjs:59:24\ndeserializeJSON@chrome://remote/content/marionette/json.sys.mjs:293:16\ncloneObject@chrome://remote/content/marionette/json.sys.mjs:59:24\ndeserializeJSON@chrome://remote/content/marionette/json.sys.mjs:293:16\njson.deserialize@chrome://remote/content/marionette/json.sys.mjs:297:10\nreceiveMessage@chrome://remote/content/marionette/actors/MarionetteCommandsChild.sys.mjs:202:30\n"
     ]
    }
   ],
   "source": [
    "lista_de_series = []\n",
    "for serie_tag in lista_series:\n",
    "    serie = cria_serie(serie_tag)\n",
    "    lista_de_series.append(serie)\n",
    "\n",
    "for serie in lista_de_series:\n",
    "    driver.get(serie.pagina)\n",
    "    elenco = driver.find_element(By.XPATH, \"//*[@id='__next']/main/div/section[1]/div/section/div/div[1]/section[3]/div[2]/div[2]\")\n",
    "    elenco = elenco.find_elements(By.TAG_NAME, \"div\")\n",
    "    for ator in elenco:\n",
    "        nome = ator.find_element(By.XPATH, \".//*[@data-testid='title-cast-item__actor']\").text\n",
    "        personagem = ator.find_element(By.XPATH, \".//*[@class='title-cast-item__characters-list']/ul/li/a\").text\n",
    "        print(personagem, nome)\n",
    "    break"
   ]
  },
  {
   "cell_type": "code",
   "execution_count": null,
   "id": "59f25a26",
   "metadata": {},
   "outputs": [],
   "source": []
  }
 ],
 "metadata": {
  "kernelspec": {
   "display_name": "base",
   "language": "python",
   "name": "python3"
  },
  "language_info": {
   "codemirror_mode": {
    "name": "ipython",
    "version": 3
   },
   "file_extension": ".py",
   "mimetype": "text/x-python",
   "name": "python",
   "nbconvert_exporter": "python",
   "pygments_lexer": "ipython3",
   "version": "3.12.7"
  }
 },
 "nbformat": 4,
 "nbformat_minor": 5
}
